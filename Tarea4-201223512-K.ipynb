{
 "cells": [
  {
   "cell_type": "markdown",
   "metadata": {
    "deletable": true,
    "editable": true
   },
   "source": [
    "<center>\n",
    "    <h1> Tarea 4 / INF285 - Computación Científica </h1>\n",
    "    <h2> Camilo Saldías G. </h2>\n",
    "    <h2> camilo.saldias.12@sansano.usm.cl | 201223512-K </h2>\n",
    "</center>\n",
    "\n",
    "_Mayo 2017_"
   ]
  },
  {
   "cell_type": "markdown",
   "metadata": {
    "deletable": true,
    "editable": true
   },
   "source": [
    "<div id='obj' />\n",
    "# 1. Introducción\n",
    "\n",
    "En este documento desarrollamos los enunciados de la Tarea 4 de Computación Científica, analizando distintos métodos iterativos para resolver sistemas de ecuaciones lineales y diferenciar el desempeño bajo distintos problemas."
   ]
  },
  {
   "cell_type": "markdown",
   "metadata": {
    "deletable": true,
    "editable": true
   },
   "source": [
    "# 2. Desarrollo"
   ]
  },
  {
   "cell_type": "code",
   "execution_count": 3,
   "metadata": {
    "collapsed": true,
    "deletable": true,
    "editable": true
   },
   "outputs": [],
   "source": [
    "%matplotlib inline\n",
    "import numpy as np\n",
    "from scipy.linalg import solve\n",
    "import matplotlib as mpl\n",
    "from mpl_toolkits.mplot3d import Axes3D\n",
    "from mpl_toolkits.mplot3d import axes3d\n",
    "from matplotlib import cm\n",
    "import matplotlib.mlab as mlab\n",
    "from matplotlib.widgets import Slider, Button, RadioButtons\n",
    "import matplotlib.pyplot as plt\n",
    "from ipywidgets.widgets import interact\n",
    "from ipywidgets import widgets\n",
    "import matplotlib\n",
    "import matplotlib.cm as cm\n",
    "\n",
    "matplotlib.rcParams['xtick.direction'] = 'out'\n",
    "matplotlib.rcParams['ytick.direction'] = 'out'\n",
    "matplotlib.rcParams['axes.titlesize'] = 16\n",
    "matplotlib.rcParams['axes.labelsize'] = 20\n",
    "matplotlib.rcParams['xtick.labelsize'] = 16\n",
    "matplotlib.rcParams['ytick.labelsize'] = 16\n"
   ]
  },
  {
   "cell_type": "markdown",
   "metadata": {
    "deletable": true,
    "editable": true
   },
   "source": [
    "<h3> PALU: </h3>\n",
    "<p style=\"font-size:16px\"><b>a) </b> Dentro de la función visual, reemplazar la <code>función np.linalg.solve</code> (destacado en comentarios) con el método <b>PALU</b> para resolver el sistema de ecuaciones, para los puntos iniciales indicados más abajo, ¿Que observaciones puede destacar del comportamiento del método  y las soluciones encontradas? ¿Existen mejoras si aumenta el número de iteraciones? ¿Cuantas iteraciones se necesitan para saturar la solución?</p>\n",
    "\n",
    "1. **(5 puntos)** $\\mathbf{x}_0=\\langle1,2\\rangle$\n",
    "2. **(10 puntos)** $\\mathbf{x}_0=\\langle0,2\\rangle$\n",
    "3. **(15 puntos)** $\\mathbf{x}_0=\\langle-2,-2\\rangle$"
   ]
  },
  {
   "cell_type": "code",
   "execution_count": 54,
   "metadata": {
    "collapsed": true
   },
   "outputs": [],
   "source": [
    "def solve_triangular(A, b, upper=True):\n",
    "    n = b.shape[0]\n",
    "    x = np.zeros_like(b)\n",
    "    if upper==True:\n",
    "        #perform back-substitution\n",
    "        x[-1] = (1./A[-1,-1]) * b[-1]\n",
    "        for i in range(n-2, -1, -1):\n",
    "            x[i] = (1./A[i,i]) * (b[i] - np.sum(A[i,i+1:] * x[i+1:]))\n",
    "    else:\n",
    "        #perform forward-substitution\n",
    "        x[0] = (1./A[0,0]) * b[0]\n",
    "        for i in range(1,n):\n",
    "            x[i] = (1./A[i,i]) * (b[i] - np.sum(A[i,:i] * x[:i]))\n",
    "    return x\n",
    "\n",
    "#permutation between rows i and j on matrix A\n",
    "def row_perm(A, i, j):\n",
    "    tmp = np.copy(A[i])\n",
    "    A[i] = A[j]\n",
    "    A[j] = tmp\n",
    "\n",
    "def palu_decomp(A, show=False):\n",
    "    N,_ = A.shape\n",
    "    P = np.identity(N)\n",
    "    L = np.zeros((N,N))\n",
    "    U = np.copy(A)\n",
    "    \n",
    "    #iterating through columns\n",
    "    for j in range(N-1):\n",
    "        #determine the new pivot\n",
    "        p_index = np.argmax(np.abs(U[j:,j]))\n",
    "        if p_index != 0:\n",
    "            row_perm(P, j, j+p_index)\n",
    "            row_perm(U, j, j+p_index)\n",
    "            row_perm(L, j, j+p_index)\n",
    "            \n",
    "        #iterating through rows\n",
    "        for i in range(j+1,N):\n",
    "            L[i,j] = U[i,j]/U[j,j]\n",
    "            U[i] -= L[i,j]*U[j]\n",
    "            \n",
    "    np.fill_diagonal(L,1)\n",
    "    return P,L,U\n",
    "\n",
    "def solve_palu(A, b, show=False):\n",
    "    P,L,U = palu_decomp(A, show)\n",
    "    #A.x = b -> P.A.x = P.b = b'\n",
    "    b = np.dot(P,b)\n",
    "    # L.c = b' with c = U.x\n",
    "    c = solve_triangular(L, b, upper=False)\n",
    "    x = solve_triangular(U, c)\n",
    "    return x"
   ]
  },
  {
   "cell_type": "code",
   "execution_count": 59,
   "metadata": {
    "collapsed": false
   },
   "outputs": [
    {
     "data": {
      "application/vnd.jupyter.widget-view+json": {
       "model_id": "f4737e3c876b48bb8dcf1a7b4cbf7445"
      }
     },
     "metadata": {},
     "output_type": "display_data"
    },
    {
     "data": {
      "text/plain": [
       "<function __main__.visual>"
      ]
     },
     "execution_count": 59,
     "metadata": {},
     "output_type": "execute_result"
    }
   ],
   "source": [
    "def visual(n_steps_newton=1,x00=0.5,x01=2):\n",
    "    # Vector form of the initial guess\n",
    "    x0=np.array([x00,x01])\n",
    "\n",
    "    # The functions to be solved\n",
    "    f1v=np.vectorize(lambda x,y: y-x**2)\n",
    "    f2v=np.vectorize(lambda x,y: x**2+y**2-1)\n",
    "    nf1f2v=np.vectorize(lambda x,y: np.linalg.norm(np.array([f1v(x,y),f2v(x,y)])))\n",
    "    \n",
    "    # The jacobian matrix for f1 and f2\n",
    "    JM=np.vectorize(lambda x,y: np.array([[-2*x,1],[2*x,2*y]]))\n",
    "\n",
    "    # Creating matrix to store all approximations made by the Newton's method\n",
    "    xs=np.zeros((2,n_steps_newton+1))\n",
    "    xs[:,0]=x0\n",
    "\n",
    "    # Applying Newton's method n_steps_newton\n",
    "    for n in np.arange(n_steps_newton):\n",
    "        b=np.array([[f1v(xs[0,n],xs[1,n])],[f2v(xs[0,n],xs[1,n])]])\n",
    "        # We use PALU this time\n",
    "        xs[:,n+1]=xs[:,n]-solve_palu(JM(xs[0,n],xs[1,n]),b).T\n",
    "\n",
    "    # Data for plotting\n",
    "    x = np.linspace(-2.0, 2.0, 100)\n",
    "    y = np.linspace(-2.0, 2.0, 100)\n",
    "    [X,Y]=np.meshgrid(x,y)\n",
    "\n",
    "    # Visualization! It is very important you learn about visualization in general.\n",
    "    plt.figure(figsize=(15,7.5))\n",
    "    \n",
    "    plt.subplot(1, 2, 1)\n",
    "    CS = plt.pcolor(X,Y,nf1f2v(X,Y))\n",
    "    plt.contour(X, Y, f1v(X,Y), levels=[0], colors='k')\n",
    "    plt.contour(X, Y, f2v(X,Y), levels=[0], colors='k')\n",
    "    plt.colorbar(CS)\n",
    "    plt.plot(xs[0,:],xs[1,:],'.r',markersize=5)\n",
    "    plt.plot(xs[0,:],xs[1,:],'-r')\n",
    "    plt.axis('tight')\n",
    "    plt.xlabel('$x$')\n",
    "    plt.ylabel('$y$')\n",
    "    f1_at_x0=float(f1v(xs[0,-1],xs[1,-1]))\n",
    "    f2_at_x0=float(f2v(xs[0,-1],xs[1,-1]))\n",
    "    nf1f2v_at_x0=float(nf1f2v(xs[0,-1],xs[1,-1]))\n",
    "    plt.title('Plotting $f_1=${:.16f},\\n $f_2=${:.16f},\\n $\\|[f_1,f_2]\\|_2=${:.16f}, \\n $x_n=${:.16f}\\n and $y_n=${:.16f}'.format(f1_at_x0,f2_at_x0,nf1f2v_at_x0,xs[0,-1],xs[1,-1]))\n",
    "    \n",
    "    plt.subplot(1, 2, 2)\n",
    "    x_i=xs[0,:]\n",
    "    y_i=xs[1,:]\n",
    "    plt.semilogy(np.arange(n_steps_newton+1),np.abs(f1v(x_i,y_i)),'.',label='$|f_1|$',markersize=20)\n",
    "    plt.semilogy(np.arange(n_steps_newton+1),np.abs(f2v(x_i,y_i)),'d',label='$|f_2|$',markersize=15,alpha=0.5)\n",
    "    plt.semilogy(np.arange(n_steps_newton+1),np.abs(nf1f2v(x_i,y_i)),'s',label='$\\|[f_1,f_2]\\|$',markersize=12,alpha=0.5)\n",
    "    plt.xlabel('n (Número de iteraciones)')\n",
    "    plt.grid(True)\n",
    "    plt.legend(loc='best')\n",
    "    \n",
    "    plt.show()\n",
    "\n",
    "interact(visual,n_steps_newton=(1,10),x00=(-2,2,0.1),x01=(-2,2,0.1))"
   ]
  },
  {
   "cell_type": "markdown",
   "metadata": {},
   "source": [
    "Para el caso de $\\mathbf{x}_0=\\langle1,2\\rangle$, son necesarias al menos 6 iteraciones para saturar la solución. En este caso, un aumento del número de iteraciones necesarias nos acerca más a la solución final, hasta llegar a saturar la solución.\n",
    "\n",
    "Para el caso de $\\mathbf{x}_0=\\langle0,2\\rangle$, el método PALU falla y no es capaz de calcular una solución, ya que implica una división por cero al momento de obtener las soluciones, independiente del número de iteraciones que se realicen.\n",
    "\n",
    "Para el caso de $\\mathbf{x}_0=\\langle-2,-2\\rangle$, se puede observar del segundo gráfico que el método diverge, lo que se hace más notorio a medida que se aumenta el número de iteraciones realizadas. Es posible concluir lo anterior ya que no se observa que las soluciones converjan a un valor determinado a medida que transcurren las iteraciones."
   ]
  },
  {
   "cell_type": "markdown",
   "metadata": {
    "deletable": true,
    "editable": true
   },
   "source": [
    "<h3> Métodos Iterativos: </h3>\n",
    "<p style=\"font-size:16px\"><b>b)</b> (1) Acople el método iterativo de <b>Gauss-Seidel</b> al visualizador (llamelo visual2), (2) incluya un cuarto parametro al widget para controlar el número de iteraciones de <b>Gauss-Seidel</b>, (3) use el algoritmo implementado para los siguientes puntos iniciales indicados más abajo. En ambos casos ¿Como afecta el número de iteraciones en la convergencia de la solución? </p>\n",
    "\n",
    "1. **(30 puntos)** Construir visual2: (1) Acoplando Gauss-Seidel y (2) Incluyendo un cuarto parámetro al widget\n",
    "2. **(10 puntos)** $\\mathbf{x}_0=\\langle1,2\\rangle$\n",
    "3. **(10 puntos)** $\\mathbf{x}_0=\\langle-2,-2\\rangle$"
   ]
  },
  {
   "cell_type": "code",
   "execution_count": 56,
   "metadata": {
    "collapsed": true
   },
   "outputs": [],
   "source": [
    "def gauss_seidel(A, b, n_iter=50):\n",
    "    n = A.shape[0]\n",
    "    #array with solutions\n",
    "    X = np.empty((n_iter, n))\n",
    "    #initial guess\n",
    "    X[0] = np.zeros(n)\n",
    "    #submatrices\n",
    "    R = np.tril(A) #R=(L+D)\n",
    "    U = A-R\n",
    "    for i in range(1, n_iter):\n",
    "        X[i] = solve_triangular(R, b.reshape(2)-np.dot(U, X[i-1]), upper=False)\n",
    "    return X[i]"
   ]
  },
  {
   "cell_type": "code",
   "execution_count": 58,
   "metadata": {
    "collapsed": false
   },
   "outputs": [
    {
     "data": {
      "application/vnd.jupyter.widget-view+json": {
       "model_id": "f92ae6c8d277446bb12a00fecb3d810b"
      }
     },
     "metadata": {},
     "output_type": "display_data"
    },
    {
     "data": {
      "text/plain": [
       "<function __main__.visual2>"
      ]
     },
     "execution_count": 58,
     "metadata": {},
     "output_type": "execute_result"
    }
   ],
   "source": [
    "def visual2(n_steps_newton=2, n_steps_seidel=50, x00=0.5, x01=2):\n",
    "    # Vector form of the initial guess\n",
    "    x0=np.array([x00,x01])\n",
    "\n",
    "    # The functions to be solved\n",
    "    f1v=np.vectorize(lambda x,y: y-x**2)\n",
    "    f2v=np.vectorize(lambda x,y: x**2+y**2-1)\n",
    "    nf1f2v=np.vectorize(lambda x,y: np.linalg.norm(np.array([f1v(x,y),f2v(x,y)])))\n",
    "    \n",
    "    # The jacobian matrix for f1 and f2\n",
    "    JM=np.vectorize(lambda x,y: np.array([[-2*x,1],[2*x,2*y]]))\n",
    "\n",
    "    # Creating matrix to store all approximations made by the Newton's method\n",
    "    xs=np.zeros((2,n_steps_newton+1))\n",
    "    xs[:,0]=x0\n",
    "\n",
    "    # Applying Newton's method n_steps_newton\n",
    "    for n in np.arange(n_steps_newton):\n",
    "        b=np.array([[f1v(xs[0,n],xs[1,n])],[f2v(xs[0,n],xs[1,n])]])\n",
    "        # ... And now, we use Gauss-Seidel!\n",
    "        xs[:,n+1]=xs[:,n]-gauss_seidel(JM(xs[0,n],xs[1,n]), b, n_steps_seidel).T\n",
    "\n",
    "    # Data for plotting\n",
    "    x = np.linspace(-2.0, 2.0, 100)\n",
    "    y = np.linspace(-2.0, 2.0, 100)\n",
    "    [X,Y]=np.meshgrid(x,y)\n",
    "\n",
    "    # Visualization! It is very important you learn about visualization in general.\n",
    "    plt.figure(figsize=(15,7.5))\n",
    "    \n",
    "    plt.subplot(1, 2, 1)\n",
    "    CS = plt.pcolor(X,Y,nf1f2v(X,Y))\n",
    "    plt.contour(X, Y, f1v(X,Y), levels=[0], colors='k')\n",
    "    plt.contour(X, Y, f2v(X,Y), levels=[0], colors='k')\n",
    "    plt.colorbar(CS)\n",
    "    plt.plot(xs[0,:],xs[1,:],'.r',markersize=5)\n",
    "    plt.plot(xs[0,:],xs[1,:],'-r')\n",
    "    plt.axis('tight')\n",
    "    plt.xlabel('$x$')\n",
    "    plt.ylabel('$y$')\n",
    "    f1_at_x0=float(f1v(xs[0,-1],xs[1,-1]))\n",
    "    f2_at_x0=float(f2v(xs[0,-1],xs[1,-1]))\n",
    "    nf1f2v_at_x0=float(nf1f2v(xs[0,-1],xs[1,-1]))\n",
    "    plt.title('Plotting $f_1=${:.16f},\\n $f_2=${:.16f},\\n $\\|[f_1,f_2]\\|_2=${:.16f}, \\n $x_n=${:.16f}\\n and $y_n=${:.16f}'.format(f1_at_x0,f2_at_x0,nf1f2v_at_x0,xs[0,-1],xs[1,-1]))\n",
    "    \n",
    "    plt.subplot(1, 2, 2)\n",
    "    x_i=xs[0,:]\n",
    "    y_i=xs[1,:]\n",
    "    plt.semilogy(np.arange(n_steps_newton+1),np.abs(f1v(x_i,y_i)),'.',label='$|f_1|$',markersize=20)\n",
    "    plt.semilogy(np.arange(n_steps_newton+1),np.abs(f2v(x_i,y_i)),'d',label='$|f_2|$',markersize=15,alpha=0.5)\n",
    "    plt.semilogy(np.arange(n_steps_newton+1),np.abs(nf1f2v(x_i,y_i)),'s',label='$\\|[f_1,f_2]\\|$',markersize=12,alpha=0.5)\n",
    "    plt.xlabel('n (Número de iteraciones)')\n",
    "    plt.grid(True)\n",
    "    plt.legend(loc='best')\n",
    "    \n",
    "    plt.show()\n",
    "\n",
    "interact(visual2, n_steps_newton=(1,10), n_steps_seidel=(1,100), x00=(-2,2,0.1), x01=(-2,2,0.1))"
   ]
  },
  {
   "cell_type": "markdown",
   "metadata": {},
   "source": [
    "Para el caso de $\\mathbf{x}_0=\\langle1,2\\rangle$, son necesarias al menos 6 iteraciones del método de Newton para saturar la solución. Lo anterior depende fuertemente del número de iteraciones de Gauss-Seidel utilizadas para calcular la solución: si por ejemplo se utilizan 50 iteraciones del método de Gauss-Seidel, entonces son necesarias al menos 7 iteraciones del método de Newton para saturar la solución. Por lo tanto, mientras más iteraciones del método de Gauss-Seidel sean utilizadas, menos iteraciones del método de Newton serán necesarias para llegar a saturar la solución.\n",
    "\n",
    "Para el caso de $\\mathbf{x}_0=\\langle-2,-2\\rangle$, y tal como ocurre con PALU en el caso anterior, se puede observar del segundo gráfico que el método diverge, lo que se hace más notorio a medida que se aumenta el número de iteraciones realizadas, tanto del método de Newton como el de Gauss-Seidel. Es posible concluir lo anterior ya que no se observa que las soluciones converjan a un valor determinado a medida que transcurren las iteraciones, independientemente del valor de iteraciones del método de Gauss-Seidel que se utilicen."
   ]
  },
  {
   "cell_type": "markdown",
   "metadata": {},
   "source": [
    "<p style=\"font-size:16px\"><b>c) (20 Puntos)</b> Respecto al análisis realizado en el punto anterior, ¿Que información se desprende del segundo gráfico? ¿Que medida corresponde la curva $\\|[f_1 , f_2]\\|_2$ ? </p>"
   ]
  },
  {
   "cell_type": "markdown",
   "metadata": {},
   "source": [
    "Como mencionamos en el punto anterior, del segundo gráfico se puede desprender información acerca de la convergencia del método a la solución final, ya que representa las soluciones obtenidas para cada iteración del método en cuestión. En este caso, la medida de la curva $\\|[f_1 , f_2]\\|_2$ correspondería a una medida de error de la solución, sabiendo que el resultado final del sistema de ecuaciones debiese ser cero. Por lo tanto, mientras más cercano $\\|[f_1 , f_2]\\|_2$ sea a cero, más exacta será la solución encontrada."
   ]
  },
  {
   "cell_type": "markdown",
   "metadata": {},
   "source": [
    "<div id='obj' />\n",
    "# 3. Conclusiones\n",
    "En este trabajo, y a través del desarrollo de las preguntas de la Tarea 4, se comprobó la importancia de la correcta selección de nuestros valores iniciales, dado que utilizar los valores incorrectos podría llevar a la no convergencia del método utilizado para obtener la solución. Además, y dado que se cuenta con las funciones necesarias para realizarlo, se podría realizar una comparación cuantitativa del tiempo necesario para correr cada uno de los algoritmos, lo que puede darnos un indicio de qué método es más óptimo que otro, aunque en este caso es difícil de cuantificar a simple vista a partir de los gráficos. Como última conclusión, podemos resaltar la importancia de los gráficos a la hora de analizar y entender el funcionamiento de los métodos numéricos, tanto directos como iterativos, y lo importante que resulta saber cómo realizar la visualización de los mismos en Jupyter Notebook."
   ]
  },
  {
   "cell_type": "markdown",
   "metadata": {
    "collapsed": true,
    "deletable": true,
    "editable": true
   },
   "source": [
    "<div id='obj' />\n",
    "# 4. Referencias\n",
    "\n",
    "* _Markdown_ https://help.github.com/articles/basic-writing-and-formatting-syntax/\n",
    "* _numpy_ http://www.numpy.org\n",
    "* _scipy_ https://www.scipy.org/scipylib/index.html\n",
    "* _ipywidgets_ https://github.com/ipython/ipywidgets\n",
    " http://nbviewer.jupyter.org/github/ipython/ipython/blob/1.x/examples/notebooks/Part%203%20-%20Plotting%20with%20Matplotlib.ipynb\n",
    "* Cuaderno de Jupyter Notebook *05_linear_systems_of_equations*, obtenido del material de apoyo del curso."
   ]
  },
  {
   "cell_type": "code",
   "execution_count": null,
   "metadata": {
    "collapsed": true
   },
   "outputs": [],
   "source": []
  }
 ],
 "metadata": {
  "anaconda-cloud": {},
  "kernelspec": {
   "display_name": "Python 3",
   "language": "python",
   "name": "python3"
  },
  "language_info": {
   "codemirror_mode": {
    "name": "ipython",
    "version": 3
   },
   "file_extension": ".py",
   "mimetype": "text/x-python",
   "name": "python",
   "nbconvert_exporter": "python",
   "pygments_lexer": "ipython3",
   "version": "3.6.0"
  },
  "widgets": {
   "state": {
    "0474457435fd4c099b0363912e3ff0ac": {
     "views": [
      {
       "cell_index": 7
      }
     ]
    }
   },
   "version": "1.2.0"
  }
 },
 "nbformat": 4,
 "nbformat_minor": 1
}
